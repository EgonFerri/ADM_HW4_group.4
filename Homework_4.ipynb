{
 "cells": [
  {
   "cell_type": "code",
   "execution_count": 1,
   "metadata": {},
   "outputs": [],
   "source": [
    "import collections\n",
    "import random, binascii"
   ]
  },
  {
   "cell_type": "code",
   "execution_count": 2,
   "metadata": {},
   "outputs": [],
   "source": [
    "def save_dict_to_file(dic, file):\n",
    "    with open('{}.txt'.format(file), 'w', encoding=\"utf-8\") as file:\n",
    "        file.write(str(dic))\n",
    "    \n",
    "def load_dict_from_file(file):\n",
    "    with open('{}.txt'.format(file), 'r', encoding=\"utf-8\") as file:\n",
    "        data = file.read()\n",
    "        return eval(data)"
   ]
  },
  {
   "cell_type": "code",
   "execution_count": 3,
   "metadata": {},
   "outputs": [
    {
     "name": "stdout",
     "output_type": "stream",
     "text": [
      "653661\n",
      "653661\n"
     ]
    }
   ],
   "source": [
    "def convert_to_number(password, isOrder=True):\n",
    "    char_numbers = ''\n",
    "    if isOrder:\n",
    "        for char, count in collections.OrderedDict(sorted(collections.Counter(password).items())).items():\n",
    "            char_numbers += '{}{}'.format(ord(char), count)\n",
    "    return char_numbers\n",
    "print(convert_to_number('AABA'))\n",
    "print(convert_to_number('AAAB'))"
   ]
  },
  {
   "cell_type": "code",
   "execution_count": 4,
   "metadata": {},
   "outputs": [
    {
     "data": {
      "text/plain": [
       "'0aff8040525eb4a5'"
      ]
     },
     "execution_count": 4,
     "metadata": {},
     "output_type": "execute_result"
    }
   ],
   "source": [
    "table = list(range(256))\n",
    "generator = random.Random()\n",
    "generator.seed('seed')\n",
    "generator.shuffle(table)\n",
    "\n",
    "def pearson_hash(input,length=8):\n",
    "    result = bytearray()\n",
    "    data = input.encode('utf-8')\n",
    "    for byte in range(length):\n",
    "        h = table[(data[0] + byte) % 256]\n",
    "        for c in data[1:]:\n",
    "            h = table[h ^ c]\n",
    "        result.append(h)\n",
    "    return binascii.hexlify(result).decode('ascii')\n",
    "pearson_hash(str(653661))"
   ]
  },
  {
   "cell_type": "code",
   "execution_count": null,
   "metadata": {},
   "outputs": [
    {
     "name": "stdout",
     "output_type": "stream",
     "text": [
      "1000000\n",
      "2000000\n",
      "3000000\n",
      "4000000\n",
      "5000000\n",
      "6000000\n",
      "7000000\n",
      "8000000\n",
      "9000000\n",
      "10000000\n",
      "11000000\n",
      "12000000\n",
      "13000000\n"
     ]
    }
   ],
   "source": [
    "counter = 0\n",
    "hash_dic = dict()\n",
    "with open(\"passwords2.txt\", encoding=\"utf-8\") as infile:\n",
    "    for password in infile:\n",
    "        pass_to_number = convert_to_number(password.strip())\n",
    "        number_to_hash = pearson_hash(str(pass_to_number))\n",
    "        if number_to_hash in hash_dic:\n",
    "            hash_dic[number_to_hash] = hash_dic[number_to_hash] + 1\n",
    "        else:\n",
    "            hash_dic[number_to_hash] = 1\n",
    "        counter +=1\n",
    "        if counter%1000000 == 0 :\n",
    "            print(counter)\n",
    "save_dict_to_file(hash_dic,'hash_dic')"
   ]
  },
  {
   "cell_type": "code",
   "execution_count": null,
   "metadata": {},
   "outputs": [],
   "source": []
  }
 ],
 "metadata": {
  "kernelspec": {
   "display_name": "Python 3",
   "language": "python",
   "name": "python3"
  },
  "language_info": {
   "codemirror_mode": {
    "name": "ipython",
    "version": 3
   },
   "file_extension": ".py",
   "mimetype": "text/x-python",
   "name": "python",
   "nbconvert_exporter": "python",
   "pygments_lexer": "ipython3",
   "version": "3.7.0"
  }
 },
 "nbformat": 4,
 "nbformat_minor": 2
}
